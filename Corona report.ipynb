{
 "cells": [
  {
   "cell_type": "markdown",
   "metadata": {},
   "source": [
    "# Corona live update graph\n",
    "\n",
    "Welcome to this dynamic load of the Corona virus.  \n",
    "Online you can see a lot of graph but no result that are usefull for research  \n",
    "To help your research i converted some raw data in to information.  \n",
    "Purpose for me is educational and it is free to contact me if i can help with getting more results  \n"
   ]
  },
  {
   "cell_type": "code",
   "execution_count": 78,
   "metadata": {},
   "outputs": [],
   "source": [
    "# Bibliotheken\n",
    "from datetime import datetime\n",
    "import pandas as pd\n",
    "import numpy as np\n",
    "import scipy as sp\n",
    "from scipy import stats\n",
    "import matplotlib.pyplot as plt\n",
    "import seaborn as sns\n",
    "\n",
    "%matplotlib inline\n",
    "\n",
    "\n",
    "import pandas as pd\n",
    "import io\n",
    "import requests"
   ]
  },
  {
   "cell_type": "code",
   "execution_count": 76,
   "metadata": {},
   "outputs": [],
   "source": [
    "deathsUrl = 'https://data.humdata.org/hxlproxy/api/data-preview.csv?url=https%3A%2F%2Fraw.githubusercontent.com%2FCSSEGISandData%2FCOVID-19%2Fmaster%2Fcsse_covid_19_data%2Fcsse_covid_19_time_series%2Ftime_series_19-covid-Deaths.csv&filename=time_series_2019-ncov-Deaths.csv'\n",
    "\n",
    "Getrequest = requests.get(deathsUrl).content\n",
    "Death_grades =pd.read_csv(io.StringIO(Getrequest.decode('utf-8')))"
   ]
  },
  {
   "cell_type": "code",
   "execution_count": 77,
   "metadata": {},
   "outputs": [
    {
     "name": "stdout",
     "output_type": "stream",
     "text": [
      "Date 1/22/20    deathcount:   17 total infected countrys:   1\n",
      "Date 1/23/20    deathcount:   18 total infected countrys:   2\n",
      "Date 1/24/20    deathcount:   26 total infected countrys:   3\n",
      "Date 1/25/20    deathcount:   42 total infected countrys:   3\n",
      "Date 1/26/20    deathcount:   56 total infected countrys:   5\n",
      "Date 1/27/20    deathcount:   82 total infected countrys:   7\n",
      "Date 1/28/20    deathcount:  131 total infected countrys:   7\n",
      "Date 1/29/20    deathcount:  133 total infected countrys:   8\n",
      "Date 1/30/20    deathcount:  171 total infected countrys:   8\n",
      "Date 1/31/20    deathcount:  213 total infected countrys:   8\n",
      "Date 2/1/20     deathcount:  259 total infected countrys:   9\n",
      "Date 2/2/20     deathcount:  362 total infected countrys:  10\n",
      "Date 2/3/20     deathcount:  426 total infected countrys:  10\n",
      "Date 2/4/20     deathcount:  492 total infected countrys:  11\n",
      "Date 2/5/20     deathcount:  564 total infected countrys:  13\n",
      "Date 2/6/20     deathcount:  634 total infected countrys:  13\n",
      "Date 2/7/20     deathcount:  719 total infected countrys:  15\n",
      "Date 2/8/20     deathcount:  806 total infected countrys:  17\n",
      "Date 2/9/20     deathcount:  906 total infected countrys:  20\n",
      "Date 2/10/20    deathcount: 1013 total infected countrys:  21\n",
      "Date 2/11/20    deathcount: 1113 total infected countrys:  21\n",
      "Date 2/12/20    deathcount: 1118 total infected countrys:  22\n",
      "Date 2/13/20    deathcount: 1371 total infected countrys:  24\n",
      "Date 2/14/20    deathcount: 1523 total infected countrys:  24\n",
      "Date 2/15/20    deathcount: 1666 total infected countrys:  25\n",
      "Date 2/16/20    deathcount: 1770 total infected countrys:  26\n",
      "Date 2/17/20    deathcount: 1868 total infected countrys:  26\n",
      "Date 2/18/20    deathcount: 2007 total infected countrys:  26\n",
      "Date 2/19/20    deathcount: 2122 total infected countrys:  28\n",
      "Date 2/20/20    deathcount: 2247 total infected countrys:  33\n",
      "Date 2/21/20    deathcount: 2251 total infected countrys:  34\n",
      "Date 2/22/20    deathcount: 2458 total infected countrys:  34\n",
      "Date 2/23/20    deathcount: 2469 total infected countrys:  34\n",
      "Date 2/24/20    deathcount: 2629 total infected countrys:  34\n",
      "Date 2/25/20    deathcount: 2708 total infected countrys:  34\n",
      "Date 2/26/20    deathcount: 2770 total infected countrys:  34\n",
      "Date 2/27/20    deathcount: 2814 total infected countrys:  34\n",
      "Date 2/28/20    deathcount: 2872 total infected countrys:  34\n",
      "Date 2/29/20    deathcount: 2941 total infected countrys:  35\n",
      "Date 3/1/20     deathcount: 2996 total infected countrys:  37\n",
      "Date 3/2/20     deathcount: 3085 total infected countrys:  38\n",
      "Date 3/3/20     deathcount: 3160 total infected countrys:  41\n",
      "Date 3/4/20     deathcount: 3254 total infected countrys:  44\n",
      "Date 3/5/20     deathcount: 3348 total infected countrys:  46\n",
      "Date 3/6/20     deathcount: 3460 total infected countrys:  47\n",
      "Date 3/7/20     deathcount: 3558 total infected countrys:  47\n",
      "Date 3/8/20     deathcount: 3802 total infected countrys:  51\n",
      "Date 3/9/20     deathcount: 3988 total infected countrys:  54\n",
      "Date 3/10/20    deathcount: 4262 total infected countrys:  54\n",
      "Date 3/11/20    deathcount: 4615 total infected countrys:  64\n",
      "Date 3/12/20    deathcount: 4720 total infected countrys:  69\n",
      "Date 3/13/20    deathcount: 5404 total infected countrys:  73\n",
      "Date 3/14/20    deathcount: 5819 total infected countrys:  82\n",
      "Date 3/15/20    deathcount: 6440 total infected countrys:  85\n",
      "Date 3/16/20    deathcount: 7126 total infected countrys:  92\n"
     ]
    }
   ],
   "source": [
    "notused = ['Province/State','Country/Region','Lat','Long'];\n",
    "count = 1\n",
    "for column in Death_grades.columns:\n",
    "    if column not in notused:\n",
    "        totalcountrys = (Death_grades[column] != 0).values.sum()\n",
    "        deathcount = np.sum(Death_grades[column])\n",
    "        print('Date {:10} deathcount: {:4} total infected countrys: {:3}'.format(column,deathcount,totalcountrys))\n",
    "        "
   ]
  },
  {
   "cell_type": "code",
   "execution_count": null,
   "metadata": {},
   "outputs": [],
   "source": []
  }
 ],
 "metadata": {
  "kernelspec": {
   "display_name": "Python 3",
   "language": "python",
   "name": "python3"
  },
  "language_info": {
   "codemirror_mode": {
    "name": "ipython",
    "version": 3
   },
   "file_extension": ".py",
   "mimetype": "text/x-python",
   "name": "python",
   "nbconvert_exporter": "python",
   "pygments_lexer": "ipython3",
   "version": "3.7.4"
  }
 },
 "nbformat": 4,
 "nbformat_minor": 2
}
